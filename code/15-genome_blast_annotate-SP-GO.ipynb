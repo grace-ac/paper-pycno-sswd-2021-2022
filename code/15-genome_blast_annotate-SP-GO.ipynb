{
 "cells": [
  {
   "cell_type": "markdown",
   "metadata": {},
   "source": [
    "# Notebook to annotate _Pycnopodia helianthoides_ genome blast output with Uniprot SP GO"
   ]
  },
  {
   "cell_type": "code",
   "execution_count": 1,
   "metadata": {},
   "outputs": [
    {
     "data": {
      "text/plain": [
       "'/Users/graciecrandall/Documents/GitHub/paper-pycno-sswd-2021-2022/code'"
      ]
     },
     "execution_count": 1,
     "metadata": {},
     "output_type": "execute_result"
    }
   ],
   "source": [
    "pwd"
   ]
  },
  {
   "cell_type": "code",
   "execution_count": 5,
   "metadata": {},
   "outputs": [
    {
     "name": "stdout",
     "output_type": "stream",
     "text": [
      "01-FastQC_pre-trim.Rmd\r\n",
      "02-20220810_pycno_fastp.sh\r\n",
      "03-hisat2-summer_2021_2022.Rmd\r\n",
      "03-kallisto-summer21-phelgenomegenelist-20240117.Rmd\r\n",
      "04-PCAplots.Rmd\r\n",
      "05-deseq2.Rmd\r\n",
      "06-BLAST.Rmd\r\n",
      "07-BLAST_annot-SP_GO.ipynb\r\n",
      "08-deglist_annot.Rmd\r\n",
      "09-DAVID_lists.Rmd\r\n",
      "10-hisat-deseq2.Rmd\r\n",
      "11-kallisto.qmd\r\n",
      "12-fix-gff.qmd\r\n",
      "13-hisat-deseq2.Rmd\r\n",
      "13-hisat-deseq2.html\r\n",
      "15-genome_blast_annotate-SP-GO.ipynb\r\n",
      "readme.md\r\n"
     ]
    }
   ],
   "source": [
    "ls"
   ]
  },
  {
   "cell_type": "code",
   "execution_count": 7,
   "metadata": {},
   "outputs": [],
   "source": [
    "#change working directory to analyses folder for this notebook\n",
    "wd = \"../analyses/14-BLAST/\""
   ]
  },
  {
   "cell_type": "code",
   "execution_count": 8,
   "metadata": {},
   "outputs": [
    {
     "name": "stdout",
     "output_type": "stream",
     "text": [
      "[Errno 2] No such file or directory: '../analyses/14-BLAST/'\n",
      "/Users/graciecrandall/Documents/GitHub/paper-pycno-sswd-2021-2022/code\n"
     ]
    }
   ],
   "source": [
    "cd $wd"
   ]
  },
  {
   "cell_type": "code",
   "execution_count": null,
   "metadata": {
    "collapsed": true
   },
   "outputs": [],
   "source": []
  }
 ],
 "metadata": {
  "kernelspec": {
   "display_name": "Python [default]",
   "language": "python",
   "name": "python3"
  },
  "language_info": {
   "codemirror_mode": {
    "name": "ipython",
    "version": 3
   },
   "file_extension": ".py",
   "mimetype": "text/x-python",
   "name": "python",
   "nbconvert_exporter": "python",
   "pygments_lexer": "ipython3",
   "version": "3.5.6"
  }
 },
 "nbformat": 4,
 "nbformat_minor": 2
}
